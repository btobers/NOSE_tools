{
 "metadata": {
  "language_info": {
   "codemirror_mode": {
    "name": "ipython",
    "version": 3
   },
   "file_extension": ".py",
   "mimetype": "text/x-python",
   "name": "python",
   "nbconvert_exporter": "python",
   "pygments_lexer": "ipython3",
   "version": "3.8.2-final"
  },
  "orig_nbformat": 2,
  "kernelspec": {
   "name": "Python 3.8.2 64-bit ('py3': conda)",
   "display_name": "Python 3.8.2 64-bit ('py3': conda)",
   "metadata": {
    "interpreter": {
     "hash": "4ded55e03ced351bfbe162caca63aac80ad050163d9cba7c07aac0fc01577c83"
    }
   }
  }
 },
 "nbformat": 4,
 "nbformat_minor": 2,
 "cells": [
  {
   "cell_type": "code",
   "execution_count": 1,
   "metadata": {},
   "outputs": [],
   "source": [
    "\"\"\"\n",
    "notebook designed to minimize mistie for crossing radar tracks with intersecting interpretations\n",
    "follows methods of Herkommer and Whitney, 1994\n",
    "\n",
    "### psuedocode ###\n",
    "1. read in pick point dataframe\n",
    "2. convert points in each track to continuous linestring\n",
    "3. find all intersection points for all linestrings\n",
    "4. find closest 2 points in each track surrounding intersection point\n",
    "5. linearly interpolate between two points to get elevation measurement for each track exactyl at intersection point\n",
    "6. get actual elevation at tie point as average of two linearly interpolated measurements\n",
    "7. mistie correction is achieved by a constant shift to each line based on the average mistie for all intersections on that line to the tie point averaged elevation measurement\n",
    "\n",
    "BST 15OCT2020\n",
    "python3\n",
    "\"\"\"\n",
    "### impots ###\n",
    "import sys, os, itertools\n",
    "import numpy as np\n",
    "import matplotlib.pyplot as plt\n",
    "import pandas as pd\n",
    "from scipy import interpolate\n",
    "from geopandas import GeoDataFrame\n",
    "from shapely.geometry import Point, LineString\n",
    "\n",
    "\n",
    "%matplotlib inline\n",
    "plt.rcParams['figure.figsize'] = [20, 8]"
   ]
  },
  {
   "cell_type": "code",
   "execution_count": 2,
   "metadata": {},
   "outputs": [],
   "source": [
    "### functions ###\n",
    "R = 6367000     # earth's radius in meters\n",
    "\n",
    "def haversinedist_point_array(plon, plat, lonarray, latarray):\n",
    "    \"\"\"\n",
    "    calculate the great circle distance between points on the earth (specified in decimal degrees)\n",
    "    \"\"\"\n",
    "    plon, plat, lonarray, latarray = map(np.radians, [plon, plat, lonarray, latarray])\n",
    "\n",
    "    dlon = lonarray - plon\n",
    "    dlat = latarray - plat\n",
    "\n",
    "    a = np.sin(dlat/2.0)**2 + np.cos(plat) * np.cos(latarray) * np.sin(dlon/2.0)**2\n",
    "\n",
    "    c = 2 * np.arcsin(np.sqrt(a))\n",
    "    m = R * c\n",
    "    return m\n",
    "\n",
    "def track_crossings(lines):\n",
    "    \"\"\" \n",
    "    append track names and point to crrossings list for each track intersection\n",
    "    \"\"\"\n",
    "    crossings = []\n",
    "    for line1,line2 in  itertools.combinations(lines, 2):\n",
    "        if  line1[1].intersects(line2[1]):\n",
    "            crossing = line1[1].intersection(line2[1])\n",
    "            if \"Point\" == crossing.type:\n",
    "                crossings.append([line1[0],line2[0],crossing])\n",
    "            elif \"MultiPoint\" == crossing.type:\n",
    "                for pt in crossing:\n",
    "                    crossings.append([line1[0],line2[0],pt])\n",
    "            elif \"MultiLineString\" == crossing.type:\n",
    "                multiLine = [line for line in crossing]\n",
    "                first_coords = multiLine[0].coords[0]\n",
    "                last_coords = multiLine[len(multiLine)-1].coords[1]\n",
    "                crossings.append([line1[0],Point(first_coords[0], first_coords[1])])\n",
    "                crossings.append([line2[0],Point(last_coords[0], last_coords[1])])\n",
    "    return crossings\n",
    "\n",
    "def interp3d(x1, y1, z1, x2, y2, z2 , x, y):\n",
    "    \"\"\"\n",
    "    interpolate zvalue on 3d line\n",
    "    \"\"\"\n",
    "    b1 = np.sqrt((x2 - x1)**2 + (y2 - y1 )**2)\n",
    "    b2 = np.sqrt((x - x1)**2 + (y - y1)**2) \n",
    "    z =   z1 + b2*(z2 - z1) / b1\n",
    "    \n",
    "    return z"
   ]
  },
  {
   "cell_type": "code",
   "execution_count": 4,
   "metadata": {},
   "outputs": [],
   "source": [
    "### params ###\n",
    "dpath = \"/mnt/c/Users/btobers/Documents/data/radar/malaspina/\"\n",
    "thresh = 100                # distance threshold between crossover points [m]"
   ]
  },
  {
   "cell_type": "code",
   "execution_count": 5,
   "metadata": {},
   "outputs": [
    {
     "output_type": "execute_result",
     "data": {
      "text/plain": [
       "            file  trace         lon        lat  elev_air  elev_gnd  twtt_surf  \\\n",
       "0  2015_may14_15    145 -140.196419  59.866553   421.760  -145.240   0.000004   \n",
       "1  2015_may14_15    146 -140.197948  59.866813   423.271  -143.729   0.000004   \n",
       "2  2015_may14_15    147 -140.200248  59.867207   425.814  -141.186   0.000004   \n",
       "3  2015_may14_15    148 -140.201791  59.867472   426.007  -140.993   0.000004   \n",
       "4  2015_may14_15    149 -140.204145  59.867869   423.588  -146.412   0.000004   \n",
       "\n",
       "   pick_idx  twtt_bed    elev_bed      thick  elev_gnd_a  elev_bed_a  \n",
       "0     232.0  0.000005 -217.923266  72.683266   39.450012  -33.233254  \n",
       "1     230.0  0.000005 -213.031649  69.302649   45.812408  -23.490240  \n",
       "2     230.0  0.000005 -210.488649  69.302649   54.026669  -15.275980  \n",
       "3     231.0  0.000005 -211.985957  70.992957   50.180809  -20.812148  \n",
       "4     233.0  0.000005 -219.095266  72.683266   52.160671  -20.522595  "
      ],
      "text/html": "<div>\n<style scoped>\n    .dataframe tbody tr th:only-of-type {\n        vertical-align: middle;\n    }\n\n    .dataframe tbody tr th {\n        vertical-align: top;\n    }\n\n    .dataframe thead th {\n        text-align: right;\n    }\n</style>\n<table border=\"1\" class=\"dataframe\">\n  <thead>\n    <tr style=\"text-align: right;\">\n      <th></th>\n      <th>file</th>\n      <th>trace</th>\n      <th>lon</th>\n      <th>lat</th>\n      <th>elev_air</th>\n      <th>elev_gnd</th>\n      <th>twtt_surf</th>\n      <th>pick_idx</th>\n      <th>twtt_bed</th>\n      <th>elev_bed</th>\n      <th>thick</th>\n      <th>elev_gnd_a</th>\n      <th>elev_bed_a</th>\n    </tr>\n  </thead>\n  <tbody>\n    <tr>\n      <th>0</th>\n      <td>2015_may14_15</td>\n      <td>145</td>\n      <td>-140.196419</td>\n      <td>59.866553</td>\n      <td>421.760</td>\n      <td>-145.240</td>\n      <td>0.000004</td>\n      <td>232.0</td>\n      <td>0.000005</td>\n      <td>-217.923266</td>\n      <td>72.683266</td>\n      <td>39.450012</td>\n      <td>-33.233254</td>\n    </tr>\n    <tr>\n      <th>1</th>\n      <td>2015_may14_15</td>\n      <td>146</td>\n      <td>-140.197948</td>\n      <td>59.866813</td>\n      <td>423.271</td>\n      <td>-143.729</td>\n      <td>0.000004</td>\n      <td>230.0</td>\n      <td>0.000005</td>\n      <td>-213.031649</td>\n      <td>69.302649</td>\n      <td>45.812408</td>\n      <td>-23.490240</td>\n    </tr>\n    <tr>\n      <th>2</th>\n      <td>2015_may14_15</td>\n      <td>147</td>\n      <td>-140.200248</td>\n      <td>59.867207</td>\n      <td>425.814</td>\n      <td>-141.186</td>\n      <td>0.000004</td>\n      <td>230.0</td>\n      <td>0.000005</td>\n      <td>-210.488649</td>\n      <td>69.302649</td>\n      <td>54.026669</td>\n      <td>-15.275980</td>\n    </tr>\n    <tr>\n      <th>3</th>\n      <td>2015_may14_15</td>\n      <td>148</td>\n      <td>-140.201791</td>\n      <td>59.867472</td>\n      <td>426.007</td>\n      <td>-140.993</td>\n      <td>0.000004</td>\n      <td>231.0</td>\n      <td>0.000005</td>\n      <td>-211.985957</td>\n      <td>70.992957</td>\n      <td>50.180809</td>\n      <td>-20.812148</td>\n    </tr>\n    <tr>\n      <th>4</th>\n      <td>2015_may14_15</td>\n      <td>149</td>\n      <td>-140.204145</td>\n      <td>59.867869</td>\n      <td>423.588</td>\n      <td>-146.412</td>\n      <td>0.000004</td>\n      <td>233.0</td>\n      <td>0.000005</td>\n      <td>-219.095266</td>\n      <td>72.683266</td>\n      <td>52.160671</td>\n      <td>-20.522595</td>\n    </tr>\n  </tbody>\n</table>\n</div>"
     },
     "metadata": {},
     "execution_count": 5
    }
   ],
   "source": [
    "# now let's try with some malaspin data\n",
    "df = pd.read_csv(dpath + \"malaBed.csv\")\n",
    "df.head()"
   ]
  },
  {
   "cell_type": "code",
   "execution_count": 6,
   "metadata": {},
   "outputs": [],
   "source": [
    "# lets try converting points in each track to it's own linestring then seeing where linestrings intersect\n",
    "\n",
    "# Zip the coordinates into a point object and convert to a GeoDataFrame\n",
    "geometry = [Point(xy) for xy in zip(df.lon, df.lat)]\n",
    "gdf = GeoDataFrame(df, geometry=geometry)\n",
    "\n",
    "# Aggregate these points with the GroupBy\n",
    "gdf2 = gdf.groupby([\"file\"])[\"geometry\"].apply(lambda x: LineString(x.tolist()))\n",
    "gdf2 = GeoDataFrame(gdf2, geometry=\"geometry\")\n",
    "\n",
    "# compile list of lines with linestring\n",
    "lines = list(gdf2[\"geometry\"])\n",
    "lines = [tuple((fname, lines[_i])) for _i, fname in enumerate(gdf2.index.values)]"
   ]
  },
  {
   "cell_type": "code",
   "execution_count": 7,
   "metadata": {},
   "outputs": [],
   "source": [
    "# get all line crossings\n",
    "crossings = track_crossings(lines)"
   ]
  },
  {
   "cell_type": "code",
   "execution_count": 7,
   "metadata": {
    "tags": []
   },
   "outputs": [],
   "source": [
    "# let's get the two surrounding points on each track to each intersection point\n",
    "rem_idx = []        # indices of crossings list elements to remove if distance is above threshold\n",
    "for _i, crossing in enumerate(crossings):\n",
    "    pt = crossing[2]\n",
    "    df_sub0 = df[df[\"file\"]==crossing[0]]\n",
    "    df_sub1 = df[df[\"file\"]==crossing[1]]\n",
    "    \n",
    "    # get distance of each point in track to intersection point\n",
    "    dist0 = haversinedist_point_array(df_sub0[\"lon\"].to_numpy(), df_sub0[\"lat\"].to_numpy(), pt.x, pt.y)\n",
    "    dist1 = haversinedist_point_array(df_sub1[\"lon\"].to_numpy(), df_sub1[\"lat\"].to_numpy(), pt.x, pt.y)\n",
    "\n",
    "    # make sure closest point to each intersection is below threshold distance specified\n",
    "    if dist0.min() < thresh and dist1.min() < thresh:\n",
    "        # sort distances to get two closes indices\n",
    "        t0sort = np.argsort(dist0)\n",
    "        t1sort = np.argsort(dist1)\n",
    "\n",
    "        # get lon, lat, elev for two surrounding points on each track\n",
    "        x0 = [df_sub0[\"lon\"].iloc[t0sort[0]], df_sub0[\"lon\"].iloc[t0sort[1]]]\n",
    "        y0 = [df_sub0[\"lat\"].iloc[t0sort[0]], df_sub0[\"lat\"].iloc[t0sort[1]]]\n",
    "        z0 = [df_sub0[\"elev_bed_a\"].iloc[t0sort[0]], df_sub0[\"elev_bed_a\"].iloc[t0sort[1]]]\n",
    "\n",
    "        x1 = [df_sub1[\"lon\"].iloc[t1sort[0]], df_sub1[\"lon\"].iloc[t1sort[1]]]\n",
    "        y1 = [df_sub1[\"lat\"].iloc[t1sort[0]], df_sub1[\"lat\"].iloc[t1sort[1]]]\n",
    "        z1 = [df_sub1[\"elev_bed_a\"].iloc[t1sort[0]], df_sub1[\"elev_bed_a\"].iloc[t1sort[1]]]\n",
    "\n",
    "        # get linearly interpolated elevation for each track at crossing point - different result if using lon/lat\n",
    "        z0_cross = interp3d(x0[0],y0[0],z0[0],x0[1],y0[1],z0[1],pt.x,pt.y)\n",
    "        z1_cross = interp3d(x1[0],y1[0],z1[0],x1[1],y1[1],z1[1],pt.x,pt.y)\n",
    "        # z0_cross = np.interp(pt.y, y0, z0)\n",
    "        # z1_cross = np.interp(pt.y, y1, z1)\n",
    "        # get actual elevation at crossing point as average of two measurements\n",
    "        z = (z0_cross + z1_cross) / 2\n",
    "\n",
    "        # get difference between average value at crossing point and measured value for each track and add difference value to crossings list\n",
    "        crossings[_i].append(z - z0_cross)\n",
    "        crossings[_i].append(z - z1_cross)\n",
    "\n",
    "    # if closest point further than threshold, remove crossing\n",
    "    else:\n",
    "        rem_idx.append(_i)\n",
    "\n",
    "# remove necessary crossings\n",
    "for idx in sorted(rem_idx, reverse = True):  \n",
    "    del crossings[idx] "
   ]
  },
  {
   "cell_type": "code",
   "execution_count": 8,
   "metadata": {
    "tags": []
   },
   "outputs": [
    {
     "output_type": "stream",
     "name": "stdout",
     "text": [
      "[81.48221484760506, -14.102148524294421, 131.30732197322456, -242.6086203827228, 265.43887372639244, -53.4200885817882, 202.3319112193009, -258.4525816811654, 308.61900578054383, 0, 283.0675835613762, 222.77311401634267, -53.56881416426848, 19.945464330324974, 113.81661539865077, 125.91938196035514, -117.3268856522167, -83.91257793366627, 330.75304469341967, -108.56159369576599, 81.76186696171114, 290.8028915924413, 20.41422976103076, 277.3936525619307, 27.36348419908262, -1261.2567554392085, -2707.9489079414966, 40.82908112598622, 811.6428745081621, 59.44511460266551, 78.74455315479932, 1054.3368888046589, 72.96980521658936]\n"
     ]
    }
   ],
   "source": [
    "# go through each track and get all misties\n",
    "tracklist = gdf2.index.values\n",
    "mistie = [0] * len(tracklist)\n",
    "# iterate through crossings misties and add up total mistie for each track\n",
    "for crossing in crossings:\n",
    "    t0 = crossing[0]    \n",
    "    t1 = crossing[1]\n",
    "    idx0 = np.where(tracklist==t0)[0][0]\n",
    "    idx1 = np.where(tracklist==t1)[0][0]\n",
    "    # add the mistie\n",
    "    mistie[idx0] += crossing[3]\n",
    "    mistie[idx1] += crossing[4]\n",
    "print(mistie)"
   ]
  }
 ]
}